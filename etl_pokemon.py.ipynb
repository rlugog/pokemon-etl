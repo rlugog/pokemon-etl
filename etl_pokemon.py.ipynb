{
 "cells": [
  {
   "cell_type": "code",
   "execution_count": 3,
   "id": "1374747b-0a9a-4aac-80a7-3fd84186750a",
   "metadata": {},
   "outputs": [
    {
     "name": "stdout",
     "output_type": "stream",
     "text": [
      "   userId  id                                              title  \\\n",
      "0       1   1  sunt aut facere repellat provident occaecati e...   \n",
      "1       1   2                                       qui est esse   \n",
      "2       1   3  ea molestias quasi exercitationem repellat qui...   \n",
      "3       1   4                               eum et est occaecati   \n",
      "4       1   5                                 nesciunt quas odio   \n",
      "\n",
      "                                                body  \n",
      "0  quia et suscipit\\nsuscipit recusandae consequu...  \n",
      "1  est rerum tempore vitae\\nsequi sint nihil repr...  \n",
      "2  et iusto sed quo iure\\nvoluptatem occaecati om...  \n",
      "3  ullam et saepe reiciendis voluptatem adipisci\\...  \n",
      "4  repudiandae veniam quaerat sunt sed\\nalias aut...  \n"
     ]
    }
   ],
   "source": [
    "import requests\n",
    "import pandas as pd\n",
    "\n",
    "url = 'https://jsonplaceholder.typicode.com/posts'\n",
    "response = requests.get(url)\n",
    "\n",
    "if response.status_code == 200:\n",
    "    data = response.json()\n",
    "    df = pd.DataFrame(data)\n",
    "    print(df.head())\n",
    "else:\n",
    "    print(f\"Failed with status: {response.status_code}\")\n",
    "\n"
   ]
  },
  {
   "cell_type": "code",
   "execution_count": 4,
   "id": "e2d4d1a6-dd2d-4cb3-a2e1-4338c639a833",
   "metadata": {},
   "outputs": [
    {
     "name": "stdout",
     "output_type": "stream",
     "text": [
      "{'count': 1302, 'next': 'https://pokeapi.co/api/v2/pokemon?offset=10&limit=10', 'previous': None, 'results': [{'name': 'bulbasaur', 'url': 'https://pokeapi.co/api/v2/pokemon/1/'}, {'name': 'ivysaur', 'url': 'https://pokeapi.co/api/v2/pokemon/2/'}, {'name': 'venusaur', 'url': 'https://pokeapi.co/api/v2/pokemon/3/'}, {'name': 'charmander', 'url': 'https://pokeapi.co/api/v2/pokemon/4/'}, {'name': 'charmeleon', 'url': 'https://pokeapi.co/api/v2/pokemon/5/'}, {'name': 'charizard', 'url': 'https://pokeapi.co/api/v2/pokemon/6/'}, {'name': 'squirtle', 'url': 'https://pokeapi.co/api/v2/pokemon/7/'}, {'name': 'wartortle', 'url': 'https://pokeapi.co/api/v2/pokemon/8/'}, {'name': 'blastoise', 'url': 'https://pokeapi.co/api/v2/pokemon/9/'}, {'name': 'caterpie', 'url': 'https://pokeapi.co/api/v2/pokemon/10/'}]}\n"
     ]
    }
   ],
   "source": [
    "url = 'https://pokeapi.co/api/v2/pokemon?limit=10'\n",
    "response = requests.get(url)\n",
    "print(response.json())\n"
   ]
  },
  {
   "cell_type": "code",
   "execution_count": 5,
   "id": "39fce1d1-3c21-4187-a5ba-90fab29f7d3d",
   "metadata": {},
   "outputs": [],
   "source": [
    "import requests\n",
    "import pandas as pd\n",
    "\n",
    "# Extraemos la lista inicial de Pokémon\n",
    "url = 'https://pokeapi.co/api/v2/pokemon?limit=10'\n",
    "response = requests.get(url)\n",
    "pokemon_list = response.json()['results']\n"
   ]
  },
  {
   "cell_type": "code",
   "execution_count": 6,
   "id": "a4ab1fa0-7265-49b2-b80a-60a39ae51ead",
   "metadata": {},
   "outputs": [
    {
     "name": "stdout",
     "output_type": "stream",
     "text": [
      "         name              abilities\n",
      "0   bulbasaur  overgrow, chlorophyll\n",
      "1     ivysaur  overgrow, chlorophyll\n",
      "2    venusaur  overgrow, chlorophyll\n",
      "3  charmander     blaze, solar-power\n",
      "4  charmeleon     blaze, solar-power\n",
      "5   charizard     blaze, solar-power\n",
      "6    squirtle     torrent, rain-dish\n",
      "7   wartortle     torrent, rain-dish\n",
      "8   blastoise     torrent, rain-dish\n",
      "9    caterpie  shield-dust, run-away\n"
     ]
    }
   ],
   "source": [
    "# Creamos una lista para almacenar los datos limpios\n",
    "clean_data = []\n",
    "\n",
    "for poke in pokemon_list:\n",
    "    details = requests.get(poke['url']).json()\n",
    "    name = details['name']\n",
    "    abilities = [ab['ability']['name'] for ab in details['abilities']]\n",
    "    clean_data.append({\n",
    "        'name': name,\n",
    "        'abilities': ', '.join(abilities)\n",
    "    })\n",
    "\n",
    "# Convertimos a DataFrame\n",
    "df = pd.DataFrame(clean_data)\n",
    "print(df)\n"
   ]
  },
  {
   "cell_type": "code",
   "execution_count": 7,
   "id": "fd460dd7-f2f9-4cc9-b668-8d8ebdbdc4a5",
   "metadata": {},
   "outputs": [
    {
     "name": "stdout",
     "output_type": "stream",
     "text": [
      "Archivo guardado como 'pokemon_abilities.csv'\n"
     ]
    }
   ],
   "source": [
    "df.to_csv('pokemon_abilities.csv', index=False)\n",
    "print(\"Archivo guardado como 'pokemon_abilities.csv'\")\n"
   ]
  },
  {
   "cell_type": "code",
   "execution_count": null,
   "id": "fd947951-1653-4f60-9be8-aa5b79fffa8d",
   "metadata": {},
   "outputs": [],
   "source": []
  }
 ],
 "metadata": {
  "kernelspec": {
   "display_name": "Python 3 (ipykernel)",
   "language": "python",
   "name": "python3"
  },
  "language_info": {
   "codemirror_mode": {
    "name": "ipython",
    "version": 3
   },
   "file_extension": ".py",
   "mimetype": "text/x-python",
   "name": "python",
   "nbconvert_exporter": "python",
   "pygments_lexer": "ipython3",
   "version": "3.12.6"
  }
 },
 "nbformat": 4,
 "nbformat_minor": 5
}
